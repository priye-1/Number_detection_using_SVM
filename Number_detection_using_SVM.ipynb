{
 "cells": [
  {
   "cell_type": "code",
   "execution_count": 1,
   "metadata": {},
   "outputs": [
    {
     "name": "stdout",
     "output_type": "stream",
     "text": [
      "0.9907407407407407\n"
     ]
    }
   ],
   "source": [
    "import pandas as pd\n",
    "from sklearn import svm\n",
    "from sklearn import datasets\n",
    "import matplotlib.pyplot as plt\n",
    "from sklearn.model_selection import train_test_split\n",
    "\n",
    "\n",
    "#load the digit dataset\n",
    "digits = datasets.load_digits()\n",
    "\n",
    "#specify the classifier\n",
    "clf = svm.SVC(gamma = 0.001, C = 100)\n",
    "\n",
    "#Assign the features and labels\n",
    "X = digits['data']\n",
    "y = digits['target']\n",
    "\n",
    "#split the data into all but the last ten datapoints and assign to a variable, X\n",
    "X_train, X_test,  y_train, y_test = train_test_split (X, y, test_size = 0.3, random_state=42)\n",
    "\n",
    "#Train the machine\n",
    "clf.fit(X_train, y_train)\n",
    "\n",
    "#Test the datasets\n",
    "y_pred = clf.predict(X_test)\n",
    "\n",
    "print(clf.score(X_test, y_test))\n",
    "\n",
    "\n"
   ]
  },
  {
   "cell_type": "code",
   "execution_count": null,
   "metadata": {},
   "outputs": [],
   "source": []
  }
 ],
 "metadata": {
  "kernelspec": {
   "display_name": "Python 3",
   "language": "python",
   "name": "python3"
  },
  "language_info": {
   "codemirror_mode": {
    "name": "ipython",
    "version": 3
   },
   "file_extension": ".py",
   "mimetype": "text/x-python",
   "name": "python",
   "nbconvert_exporter": "python",
   "pygments_lexer": "ipython3",
   "version": "3.7.4"
  }
 },
 "nbformat": 4,
 "nbformat_minor": 2
}
